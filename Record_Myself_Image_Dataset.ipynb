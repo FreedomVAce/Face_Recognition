{
 "cells": [
  {
   "cell_type": "code",
   "execution_count": null,
   "metadata": {},
   "outputs": [],
   "source": [
    "import cv2"
   ]
  },
  {
   "cell_type": "code",
   "execution_count": null,
   "metadata": {},
   "outputs": [],
   "source": [
    "# Open Camera for Record Images \n",
    "cap = cv2.VideoCapture(0)\n",
    "\n",
    "number = 0\n",
    "\n",
    "while True:\n",
    "    ret,image=cap.read()\n",
    "    if not ret :\n",
    "        continue\n",
    "    cv2.imwrite(\"Photo%d.jpg\" % number,image)      \n",
    "    number += 1\n",
    "    print(number)\n",
    "    resized_img = cv2.resize(image, (700, 700))\n",
    "    cv2.imshow('Image',resized_img)\n",
    "    \n",
    "    if cv2.waitKey(10) == ord('q'):\n",
    "        break\n",
    "\n",
    "\n",
    "cap.release()\n",
    "cv2.destroyAllWindows"
   ]
  },
  {
   "cell_type": "code",
   "execution_count": null,
   "metadata": {},
   "outputs": [],
   "source": []
  }
 ],
 "metadata": {
  "kernelspec": {
   "display_name": "Python 3",
   "language": "python",
   "name": "python3"
  },
  "language_info": {
   "codemirror_mode": {
    "name": "ipython",
    "version": 3
   },
   "file_extension": ".py",
   "mimetype": "text/x-python",
   "name": "python",
   "nbconvert_exporter": "python",
   "pygments_lexer": "ipython3",
   "version": "3.6.10"
  }
 },
 "nbformat": 4,
 "nbformat_minor": 4
}
